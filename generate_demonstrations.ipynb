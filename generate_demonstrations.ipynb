{
 "cells": [
  {
   "cell_type": "code",
   "execution_count": 1,
   "id": "683fffe8-a63c-47b0-82aa-52c3ec6c7e16",
   "metadata": {},
   "outputs": [],
   "source": [
    "## Auto-format notebook\n",
    "%load_ext lab_black"
   ]
  },
  {
   "cell_type": "code",
   "execution_count": 2,
   "id": "965286db-aa4f-4575-a5a7-737dd678e91f",
   "metadata": {},
   "outputs": [
    {
     "name": "stdout",
     "output_type": "stream",
     "text": [
      "['/home/raphael/uni/jku/2_sem/reinforcement_learning/assignments', '/home/raphael/.pyenv/versions/3.7.12/lib/python37.zip', '/home/raphael/.pyenv/versions/3.7.12/lib/python3.7', '/home/raphael/.pyenv/versions/3.7.12/lib/python3.7/lib-dynload', '', '/home/raphael/.local/share/virtualenvs/assignments-geAH-P9e/lib/python3.7/site-packages', '/home/raphael/.local/share/virtualenvs/assignments-geAH-P9e/lib/python3.7/site-packages/IPython/extensions', '/home/raphael/.ipython']\n",
      "/home/raphael/.local/share/virtualenvs/assignments-geAH-P9e/lib/python3.7/site-packages\n",
      "['/home/raphael/.local/share/virtualenvs/assignments-geAH-P9e/lib/python3.7/site-packages', '/home/raphael/uni/jku/2_sem/reinforcement_learning/assignments', '/home/raphael/.pyenv/versions/3.7.12/lib/python37.zip', '/home/raphael/.pyenv/versions/3.7.12/lib/python3.7', '/home/raphael/.pyenv/versions/3.7.12/lib/python3.7/lib-dynload', '', '/home/raphael/.local/share/virtualenvs/assignments-geAH-P9e/lib/python3.7/site-packages', '/home/raphael/.local/share/virtualenvs/assignments-geAH-P9e/lib/python3.7/site-packages/IPython/extensions', '/home/raphael/.ipython']\n",
      "GraphicPommeFFAFast-v0 env is registered.\n",
      "GraphicOneVsOne-v0 env is registered.\n",
      "GraphicOVOCompact-v0 env is registered.\n",
      "GraphicOVONano-v0 env is registered.\n",
      "Hint: just ignore the error \"Import error NSDE! You will not be able to render --> Cannot connect to 'None'\"\n",
      "PommeFFACompetition-v0\n",
      "PommeFFACompetitionFast-v0\n",
      "PommeFFAFast-v0\n",
      "PommeFFA-v1\n",
      "PommeRadioCompetition-v2\n",
      "PommeRadio-v2\n",
      "PommeTeamCompetition-v0\n",
      "PommeTeamCompetitionFast-v0\n",
      "PommeTeamCompetition-v1\n",
      "PommeTeam-v0\n",
      "PommeTeamFast-v0\n"
     ]
    },
    {
     "data": {
      "text/plain": [
       "'\\n0 Stop\\n1 Up\\n2 Down\\n3 Left\\n4 Right\\n5 Bomb\\n'"
      ]
     },
     "execution_count": 2,
     "metadata": {},
     "output_type": "execute_result"
    }
   ],
   "source": [
    "import os\n",
    "import numpy as np\n",
    "import torch\n",
    "import torch.nn as nn\n",
    "import torch.optim as optim\n",
    "import torch.onnx\n",
    "import shutil\n",
    "from time import strftime, time\n",
    "from collections import deque, namedtuple\n",
    "from PIL import Image\n",
    "import cv2\n",
    "import matplotlib.pyplot as plt\n",
    "import IPython.display\n",
    "from functools import partial\n",
    "from itertools import chain\n",
    "\n",
    "import gym\n",
    "from gym import Env, Wrapper\n",
    "\n",
    "from pommerman import make\n",
    "from pommerman.agents import BaseAgent, RandomAgent, SimpleAgent\n",
    "from graphic_pomme_env import graphic_pomme_env\n",
    "from graphic_pomme_env.wrappers import PommerEnvWrapperFrameSkip2\n",
    "\n",
    "print(\n",
    "    '''Hint: just ignore the error \"Import error NSDE! You will not be able to render --> Cannot connect to 'None'\"'''\n",
    ")\n",
    "pomenvs = [es.id for es in gym.envs.registry.all() if es.id.startswith(\"Pomme\")]\n",
    "print(\"\\n\".join(pomenvs))\n",
    "res = graphic_pomme_env.load_resources()\n",
    "N_PLAYERS = 2\n",
    "NUM_STACK = 5\n",
    "\n",
    "NUM_ACTIONS = 6\n",
    "\"\"\"\n",
    "0 Stop\n",
    "1 Up\n",
    "2 Down\n",
    "3 Left\n",
    "4 Right\n",
    "5 Bomb\n",
    "\"\"\""
   ]
  },
  {
   "cell_type": "code",
   "execution_count": 3,
   "id": "7d60459a-ac2f-4777-8e33-74fec8b7d9e3",
   "metadata": {},
   "outputs": [],
   "source": [
    "import csv\n",
    "from IPython.display import clear_output"
   ]
  },
  {
   "cell_type": "code",
   "execution_count": 9,
   "id": "b51c629f-34af-4252-a78b-ad1474d89fb5",
   "metadata": {},
   "outputs": [],
   "source": [
    "class ReplayBuffer:\n",
    "    def __init__(self, num_actions, size=10_000, remove_low_reward=0.8):\n",
    "        self.size = size\n",
    "        self.transition = []\n",
    "        self.num_actions = num_actions\n",
    "        self.remove_low_reward = remove_low_reward\n",
    "\n",
    "    def add(self, state, action, reward, next_state, done):\n",
    "        if self.length() > self.size:\n",
    "            self.remove()\n",
    "        self.transition.append((state, action, reward, next_state, done))\n",
    "\n",
    "    def length(self):\n",
    "        return len(self.transition)\n",
    "\n",
    "    def remove(self):\n",
    "        idx = 0\n",
    "        if np.random.random() < self.remove_low_reward:\n",
    "\n",
    "            lowest_reward = min(self.transition, key=lambda x: x[2])[2]\n",
    "\n",
    "            for i, t in enumerate(self.transition):\n",
    "                if t[2] == lowest_reward:\n",
    "                    self.transition.pop(i)\n",
    "                    break\n",
    "\n",
    "        else:\n",
    "            self.transition.pop(idx)\n",
    "\n",
    "    def sample_batch(self, batch_size):\n",
    "        batch = random.sample(self.transition, batch_size)\n",
    "        states, actions, rewards, next_states, dones = map(np.array, zip(*batch))\n",
    "        actions = torch.from_numpy(actions.astype(int)).to(device, dtype=torch.int)\n",
    "        rewards = torch.from_numpy(rewards).to(device, dtype=torch.float32)\n",
    "        dones = torch.from_numpy(dones.astype(int)).to(device, dtype=torch.int)\n",
    "\n",
    "        return states, actions, rewards, next_states, dones\n",
    "\n",
    "    def store_to_file(self):\n",
    "        states, actions, rewards, next_states, dones = map(\n",
    "            np.array, zip(*self.transition)\n",
    "        )\n",
    "\n",
    "        np.save(\"immitation_states_2_static.npy\", states, allow_pickle=True)\n",
    "        np.save(\"immitation_actions_2_static.npy\", actions, allow_pickle=True)"
   ]
  },
  {
   "cell_type": "code",
   "execution_count": 10,
   "id": "46d1b945-405f-4a45-8b53-61451c31ab0a",
   "metadata": {},
   "outputs": [],
   "source": [
    "def get_random_environment(oponent, random_env):\n",
    "    # since this is also used for evaluation I see no need to train for different values atm\n",
    "    env = PommerEnvWrapperFrameSkip2(num_stack=5, start_pos=0, opponent_actor=oponent)\n",
    "\n",
    "    if random_env:\n",
    "        n_rigid = np.random.randint(low=1, high=6) * 2\n",
    "        n_wood = np.random.randint(low=3, high=7) * 2\n",
    "        n_items = np.random.randint(low=1, high=n_wood)\n",
    "\n",
    "        env.set_board_params(num_rigid=n_rigid, num_wood=n_wood, num_items=n_items)\n",
    "\n",
    "    return env"
   ]
  },
  {
   "cell_type": "code",
   "execution_count": 11,
   "id": "5f83f453-6152-4607-b4d4-048bc068c3cc",
   "metadata": {},
   "outputs": [],
   "source": [
    "def static_agent(frame_stack):\n",
    "    del frame_stack\n",
    "    return 0\n",
    "\n",
    "\n",
    "def rand_no_bomb_agent(frame_stack):\n",
    "    del frame_stack\n",
    "    return np.random.randint(NUM_ACTIONS - 1)\n",
    "\n",
    "\n",
    "def rand_agent(frame_stack):\n",
    "    return np.random.randint(NUM_ACTIONS)\n",
    "\n",
    "\n",
    "def model_agent(frame_stack, model):\n",
    "    with torch.no_grad():\n",
    "        obs = torch.from_numpy(np.array(frame_stack.get_obersvation()))\n",
    "        net_out = model(obs).detach().cpu().numpy()\n",
    "\n",
    "    action = np.argmax(net_out)\n",
    "    return action"
   ]
  },
  {
   "cell_type": "code",
   "execution_count": 7,
   "id": "97cee4c0-4878-48a1-bbf9-5fb14bae08ee",
   "metadata": {},
   "outputs": [
    {
     "data": {
      "text/plain": [
       "<matplotlib.image.AxesImage at 0x7f628212ec10>"
      ]
     },
     "execution_count": 7,
     "metadata": {},
     "output_type": "execute_result"
    },
    {
     "data": {
      "image/png": "[encoded data removed]",
      "text/plain": [
       "<Figure size 432x288 with 1 Axes>"
      ]
     },
     "metadata": {
      "needs_background": "light"
     },
     "output_type": "display_data"
    }
   ],
   "source": [
    "env = PommerEnvWrapperFrameSkip2(num_stack=5, start_pos=0)\n",
    "env.set_board_params(num_rigid=2, num_wood=10, num_items=2)\n",
    "\n",
    "obs, _ = env.reset()\n",
    "rgb_img = np.array(env.get_rgb_img())\n",
    "plt.imshow(Image.fromarray(rgb_img))\n",
    "\n",
    "env.set_board_params(num_rigid=4, num_wood=6, num_items=2)\n",
    "\n",
    "obs, _ = env.reset()\n",
    "rgb_img = np.array(env.get_rgb_img())\n",
    "plt.imshow(Image.fromarray(rgb_img))"
   ]
  },
  {
   "cell_type": "code",
   "execution_count": 12,
   "id": "ec53f85e-28e1-4634-a4f3-7eb364b06261",
   "metadata": {},
   "outputs": [
    {
     "name": "stdout",
     "output_type": "stream",
     "text": [
      "{'result': <Result.Win: 0>, 'winners': [0]}\n"
     ]
    }
   ],
   "source": [
    "env = get_random_environment(static_agent, False)\n",
    "\n",
    "buffer = ReplayBuffer(6, 100_000)\n",
    "\n",
    "\n",
    "for i in range(40):\n",
    "    print(\"Starting new round\")\n",
    "    done = False\n",
    "    timesteps = 0\n",
    "    bomb_timestep = []\n",
    "    agent_obs, opponent_obs = env.reset()\n",
    "    while not done:\n",
    "        agent_obs = np.array(agent_obs).astype(np.uint8)\n",
    "\n",
    "        # rgb_img = np.array(env.get_rgb_img())\n",
    "\n",
    "        plt.imshow(Image.fromarray(agent_obs[-1]))\n",
    "        plt.show()\n",
    "\n",
    "        a = input(\"\\n0 Stop\\n1 Up\\n2 Down\\n3 Left\\n4 Right\\n5 Bomb\\n\")\n",
    "        print(a)\n",
    "        if a != \"0\" and a != \"1\" and a != \"2\" and a != \"3\" and a != \"4\" and a != \"5\":\n",
    "            a = input(\"\\n0 Stop\\n1 Up\\n2 Down\\n3 Left\\n4 Right\\n5 Bomb\\n\")\n",
    "        if a != \"0\" and a != \"1\" and a != \"2\" and a != \"3\" and a != \"4\" and a != \"5\":\n",
    "            a = input(\"\\n0 Stop\\n1 Up\\n2 Down\\n3 Left\\n4 Right\\n5 Bomb\\n\")\n",
    "        a = int(a)\n",
    "\n",
    "        clear_output()\n",
    "\n",
    "        agent_step, oponent_step = env.step(a)\n",
    "        next_agent_obs, r, done, info = agent_step\n",
    "        print(info)\n",
    "        next_agent_obs = np.array(next_agent_obs).astype(np.uint8)\n",
    "\n",
    "        r = r * 200  # winning or loosing is now +200 / -200\n",
    "\n",
    "        if a == 5:  # if action == bomb\n",
    "            bomb_timestep.append(timesteps)\n",
    "\n",
    "        for b_t in bomb_timestep:\n",
    "            if timesteps - b_t == 10 and not done:\n",
    "                bomb_timestep.remove(b_t)\n",
    "                r = r + 0.2\n",
    "\n",
    "        buffer.add(agent_obs, a, r, next_agent_obs, done)\n",
    "        agent_obs = next_agent_obs\n",
    "\n",
    "buffer.store_to_file()"
   ]
  },
  {
   "cell_type": "code",
   "execution_count": null,
   "id": "e455aed4-1512-4730-8592-fb8c1a28c549",
   "metadata": {},
   "outputs": [],
   "source": [
    "first = np.load(\"immitation_states.npy\", allow_pickle=True)\n",
    "second = np.load(\"immitation_states_1.npy\", allow_pickle=True)\n",
    "\n",
    "print(first.shape)\n",
    "print(second.shape)\n",
    "\n",
    "combined_states = np.concatenate((first, second), axis=0)\n",
    "\n",
    "np.save(\"demo_states.npy\", combined_states, allow_pickle=True)"
   ]
  },
  {
   "cell_type": "code",
   "execution_count": null,
   "id": "8784e7b9-423b-46d8-82a4-e72ed7fe1f4f",
   "metadata": {},
   "outputs": [],
   "source": [
    "afirst = np.load(\"immitation_actions.npy\", allow_pickle=True)\n",
    "asecond = np.load(\"immitation_actions_2_static.npy\", allow_pickle=True)\n",
    "\n",
    "print(afirst.shape)\n",
    "print(asecond.shape)\n",
    "\n",
    "combined_actions = np.concatenate((afirst, asecond), axis=0)\n",
    "print(combined_actions.shape)\n",
    "\n",
    "np.save(\"demo_actions.npy\", combined_actions, allow_pickle=True)"
   ]
  }
 ],
 "metadata": {
  "kernelspec": {
   "display_name": "Python 3 (ipykernel)",
   "language": "python",
   "name": "python3"
  },
  "language_info": {
   "codemirror_mode": {
    "name": "ipython",
    "version": 3
   },
   "file_extension": ".py",
   "mimetype": "text/x-python",
   "name": "python",
   "nbconvert_exporter": "python",
   "pygments_lexer": "ipython3",
   "version": "3.7.12"
  }
 },
 "nbformat": 4,
 "nbformat_minor": 5
}
